{
 "cells": [
  {
   "cell_type": "code",
   "execution_count": 87,
   "metadata": {},
   "outputs": [
    {
     "data": {
      "text/html": [
       "<div>\n",
       "<style scoped>\n",
       "    .dataframe tbody tr th:only-of-type {\n",
       "        vertical-align: middle;\n",
       "    }\n",
       "\n",
       "    .dataframe tbody tr th {\n",
       "        vertical-align: top;\n",
       "    }\n",
       "\n",
       "    .dataframe thead th {\n",
       "        text-align: right;\n",
       "    }\n",
       "</style>\n",
       "<table border=\"1\" class=\"dataframe\">\n",
       "  <thead>\n",
       "    <tr style=\"text-align: right;\">\n",
       "      <th></th>\n",
       "      <th>D/T</th>\n",
       "      <th>T</th>\n",
       "      <th>DPT</th>\n",
       "      <th>RH</th>\n",
       "      <th>WC</th>\n",
       "      <th>WD</th>\n",
       "      <th>WS</th>\n",
       "      <th>Vis</th>\n",
       "      <th>Wx</th>\n",
       "      <th>Clds</th>\n",
       "      <th>...</th>\n",
       "      <th>Press</th>\n",
       "      <th>Alt</th>\n",
       "      <th>1hrprecip</th>\n",
       "      <th>3hrprecip</th>\n",
       "      <th>6hrprecip</th>\n",
       "      <th>24hrprecip</th>\n",
       "      <th>6hrmax</th>\n",
       "      <th>6hrmin</th>\n",
       "      <th>24hrmax</th>\n",
       "      <th>24hrmin</th>\n",
       "    </tr>\n",
       "  </thead>\n",
       "  <tbody>\n",
       "    <tr>\n",
       "      <th>0</th>\n",
       "      <td>Jan 22, 11:00 am</td>\n",
       "      <td>45.0</td>\n",
       "      <td>37</td>\n",
       "      <td>76</td>\n",
       "      <td>40.0</td>\n",
       "      <td>SE</td>\n",
       "      <td>8</td>\n",
       "      <td>NaN</td>\n",
       "      <td>NaN</td>\n",
       "      <td>OVC065</td>\n",
       "      <td>...</td>\n",
       "      <td>25.59</td>\n",
       "      <td>29.88</td>\n",
       "      <td>NaN</td>\n",
       "      <td>NaN</td>\n",
       "      <td>NaN</td>\n",
       "      <td>NaN</td>\n",
       "      <td>NaN</td>\n",
       "      <td>NaN</td>\n",
       "      <td>NaN</td>\n",
       "      <td>NaN</td>\n",
       "    </tr>\n",
       "    <tr>\n",
       "      <th>1</th>\n",
       "      <td>Jan 22, 10:00 am</td>\n",
       "      <td>NaN</td>\n",
       "      <td>35</td>\n",
       "      <td>79</td>\n",
       "      <td>34.0</td>\n",
       "      <td>S</td>\n",
       "      <td>13</td>\n",
       "      <td>NaN</td>\n",
       "      <td>NaN</td>\n",
       "      <td>OVC065</td>\n",
       "      <td>...</td>\n",
       "      <td>25.58</td>\n",
       "      <td>29.87</td>\n",
       "      <td>NaN</td>\n",
       "      <td>NaN</td>\n",
       "      <td>NaN</td>\n",
       "      <td>NaN</td>\n",
       "      <td>NaN</td>\n",
       "      <td>NaN</td>\n",
       "      <td>NaN</td>\n",
       "      <td>NaN</td>\n",
       "    </tr>\n",
       "    <tr>\n",
       "      <th>2</th>\n",
       "      <td>Jan 22, 9:00 am</td>\n",
       "      <td>37.0</td>\n",
       "      <td>36</td>\n",
       "      <td>93</td>\n",
       "      <td>NaN</td>\n",
       "      <td>ESE</td>\n",
       "      <td>3</td>\n",
       "      <td>6.0</td>\n",
       "      <td>Mist</td>\n",
       "      <td>OVC060</td>\n",
       "      <td>...</td>\n",
       "      <td>25.58</td>\n",
       "      <td>29.87</td>\n",
       "      <td>NaN</td>\n",
       "      <td>NaN</td>\n",
       "      <td>NaN</td>\n",
       "      <td>NaN</td>\n",
       "      <td>NaN</td>\n",
       "      <td>NaN</td>\n",
       "      <td>NaN</td>\n",
       "      <td>NaN</td>\n",
       "    </tr>\n",
       "    <tr>\n",
       "      <th>3</th>\n",
       "      <td>Jan 22, 8:00 am</td>\n",
       "      <td>34.0</td>\n",
       "      <td>32</td>\n",
       "      <td>93</td>\n",
       "      <td>NaN</td>\n",
       "      <td>ESE</td>\n",
       "      <td>5</td>\n",
       "      <td>6.0</td>\n",
       "      <td>Mist</td>\n",
       "      <td>BKN060</td>\n",
       "      <td>...</td>\n",
       "      <td>25.58</td>\n",
       "      <td>29.87</td>\n",
       "      <td>NaN</td>\n",
       "      <td>NaN</td>\n",
       "      <td>NaN</td>\n",
       "      <td>NaN</td>\n",
       "      <td>NaN</td>\n",
       "      <td>NaN</td>\n",
       "      <td>NaN</td>\n",
       "      <td>NaN</td>\n",
       "    </tr>\n",
       "    <tr>\n",
       "      <th>4</th>\n",
       "      <td>Jan 22, 7:00 am</td>\n",
       "      <td>34.0</td>\n",
       "      <td>32</td>\n",
       "      <td>92</td>\n",
       "      <td>29.0</td>\n",
       "      <td>SSE</td>\n",
       "      <td>6</td>\n",
       "      <td>6.0</td>\n",
       "      <td>Mist</td>\n",
       "      <td>CLR</td>\n",
       "      <td>...</td>\n",
       "      <td>25.56</td>\n",
       "      <td>29.85</td>\n",
       "      <td>NaN</td>\n",
       "      <td>NaN</td>\n",
       "      <td>NaN</td>\n",
       "      <td>NaN</td>\n",
       "      <td>NaN</td>\n",
       "      <td>NaN</td>\n",
       "      <td>NaN</td>\n",
       "      <td>NaN</td>\n",
       "    </tr>\n",
       "    <tr>\n",
       "      <th>...</th>\n",
       "      <td>...</td>\n",
       "      <td>...</td>\n",
       "      <td>...</td>\n",
       "      <td>...</td>\n",
       "      <td>...</td>\n",
       "      <td>...</td>\n",
       "      <td>...</td>\n",
       "      <td>...</td>\n",
       "      <td>...</td>\n",
       "      <td>...</td>\n",
       "      <td>...</td>\n",
       "      <td>...</td>\n",
       "      <td>...</td>\n",
       "      <td>...</td>\n",
       "      <td>...</td>\n",
       "      <td>...</td>\n",
       "      <td>...</td>\n",
       "      <td>...</td>\n",
       "      <td>...</td>\n",
       "      <td>...</td>\n",
       "      <td>...</td>\n",
       "    </tr>\n",
       "    <tr>\n",
       "      <th>67</th>\n",
       "      <td>Jan 19, 4:00 pm</td>\n",
       "      <td>NaN</td>\n",
       "      <td>30</td>\n",
       "      <td>60</td>\n",
       "      <td>39.0</td>\n",
       "      <td>NNW</td>\n",
       "      <td>6</td>\n",
       "      <td>NaN</td>\n",
       "      <td>NaN</td>\n",
       "      <td>CLR</td>\n",
       "      <td>...</td>\n",
       "      <td>25.79</td>\n",
       "      <td>30.12</td>\n",
       "      <td>NaN</td>\n",
       "      <td>NaN</td>\n",
       "      <td>NaN</td>\n",
       "      <td>NaN</td>\n",
       "      <td>NaN</td>\n",
       "      <td>NaN</td>\n",
       "      <td>NaN</td>\n",
       "      <td>NaN</td>\n",
       "    </tr>\n",
       "    <tr>\n",
       "      <th>68</th>\n",
       "      <td>Jan 19, 3:00 pm</td>\n",
       "      <td>46.0</td>\n",
       "      <td>30</td>\n",
       "      <td>53</td>\n",
       "      <td>NaN</td>\n",
       "      <td>N</td>\n",
       "      <td>6</td>\n",
       "      <td>NaN</td>\n",
       "      <td>NaN</td>\n",
       "      <td>CLR</td>\n",
       "      <td>...</td>\n",
       "      <td>25.81</td>\n",
       "      <td>30.14</td>\n",
       "      <td>NaN</td>\n",
       "      <td>NaN</td>\n",
       "      <td>NaN</td>\n",
       "      <td>NaN</td>\n",
       "      <td>NaN</td>\n",
       "      <td>NaN</td>\n",
       "      <td>NaN</td>\n",
       "      <td>NaN</td>\n",
       "    </tr>\n",
       "    <tr>\n",
       "      <th>69</th>\n",
       "      <td>Jan 19, 2:00 pm</td>\n",
       "      <td>50.0</td>\n",
       "      <td>31</td>\n",
       "      <td>48</td>\n",
       "      <td>NaN</td>\n",
       "      <td>N</td>\n",
       "      <td>0</td>\n",
       "      <td>NaN</td>\n",
       "      <td>NaN</td>\n",
       "      <td>CLR</td>\n",
       "      <td>...</td>\n",
       "      <td>25.82</td>\n",
       "      <td>30.15</td>\n",
       "      <td>NaN</td>\n",
       "      <td>NaN</td>\n",
       "      <td>NaN</td>\n",
       "      <td>NaN</td>\n",
       "      <td>NaN</td>\n",
       "      <td>NaN</td>\n",
       "      <td>NaN</td>\n",
       "      <td>NaN</td>\n",
       "    </tr>\n",
       "    <tr>\n",
       "      <th>70</th>\n",
       "      <td>Jan 19, 1:00 pm</td>\n",
       "      <td>NaN</td>\n",
       "      <td>28</td>\n",
       "      <td>55</td>\n",
       "      <td>NaN</td>\n",
       "      <td>N</td>\n",
       "      <td>0</td>\n",
       "      <td>NaN</td>\n",
       "      <td>NaN</td>\n",
       "      <td>FEW100</td>\n",
       "      <td>...</td>\n",
       "      <td>25.84</td>\n",
       "      <td>30.18</td>\n",
       "      <td>NaN</td>\n",
       "      <td>NaN</td>\n",
       "      <td>NaN</td>\n",
       "      <td>NaN</td>\n",
       "      <td>NaN</td>\n",
       "      <td>NaN</td>\n",
       "      <td>NaN</td>\n",
       "      <td>NaN</td>\n",
       "    </tr>\n",
       "    <tr>\n",
       "      <th>71</th>\n",
       "      <td>Jan 19, 12:00 pm</td>\n",
       "      <td>41.0</td>\n",
       "      <td>28</td>\n",
       "      <td>60</td>\n",
       "      <td>NaN</td>\n",
       "      <td>N</td>\n",
       "      <td>0</td>\n",
       "      <td>NaN</td>\n",
       "      <td>NaN</td>\n",
       "      <td>BKN120</td>\n",
       "      <td>...</td>\n",
       "      <td>25.87</td>\n",
       "      <td>30.21</td>\n",
       "      <td>NaN</td>\n",
       "      <td>NaN</td>\n",
       "      <td>NaN</td>\n",
       "      <td>NaN</td>\n",
       "      <td>NaN</td>\n",
       "      <td>NaN</td>\n",
       "      <td>NaN</td>\n",
       "      <td>NaN</td>\n",
       "    </tr>\n",
       "  </tbody>\n",
       "</table>\n",
       "<p>72 rows × 21 columns</p>\n",
       "</div>"
      ],
      "text/plain": [
       "                 D/T     T  DPT  RH    WC   WD  WS  Vis    Wx    Clds  ...  \\\n",
       "0   Jan 22, 11:00 am  45.0   37  76  40.0   SE   8  NaN   NaN  OVC065  ...   \n",
       "1   Jan 22, 10:00 am   NaN   35  79  34.0    S  13  NaN   NaN  OVC065  ...   \n",
       "2    Jan 22, 9:00 am  37.0   36  93   NaN  ESE   3  6.0  Mist  OVC060  ...   \n",
       "3    Jan 22, 8:00 am  34.0   32  93   NaN  ESE   5  6.0  Mist  BKN060  ...   \n",
       "4    Jan 22, 7:00 am  34.0   32  92  29.0  SSE   6  6.0  Mist     CLR  ...   \n",
       "..               ...   ...  ...  ..   ...  ...  ..  ...   ...     ...  ...   \n",
       "67   Jan 19, 4:00 pm   NaN   30  60  39.0  NNW   6  NaN   NaN     CLR  ...   \n",
       "68   Jan 19, 3:00 pm  46.0   30  53   NaN    N   6  NaN   NaN     CLR  ...   \n",
       "69   Jan 19, 2:00 pm  50.0   31  48   NaN    N   0  NaN   NaN     CLR  ...   \n",
       "70   Jan 19, 1:00 pm   NaN   28  55   NaN    N   0  NaN   NaN  FEW100  ...   \n",
       "71  Jan 19, 12:00 pm  41.0   28  60   NaN    N   0  NaN   NaN  BKN120  ...   \n",
       "\n",
       "    Press    Alt  1hrprecip 3hrprecip  6hrprecip  24hrprecip  6hrmax  6hrmin  \\\n",
       "0   25.59  29.88        NaN       NaN        NaN         NaN     NaN     NaN   \n",
       "1   25.58  29.87        NaN       NaN        NaN         NaN     NaN     NaN   \n",
       "2   25.58  29.87        NaN       NaN        NaN         NaN     NaN     NaN   \n",
       "3   25.58  29.87        NaN       NaN        NaN         NaN     NaN     NaN   \n",
       "4   25.56  29.85        NaN       NaN        NaN         NaN     NaN     NaN   \n",
       "..    ...    ...        ...       ...        ...         ...     ...     ...   \n",
       "67  25.79  30.12        NaN       NaN        NaN         NaN     NaN     NaN   \n",
       "68  25.81  30.14        NaN       NaN        NaN         NaN     NaN     NaN   \n",
       "69  25.82  30.15        NaN       NaN        NaN         NaN     NaN     NaN   \n",
       "70  25.84  30.18        NaN       NaN        NaN         NaN     NaN     NaN   \n",
       "71  25.87  30.21        NaN       NaN        NaN         NaN     NaN     NaN   \n",
       "\n",
       "    24hrmax  24hrmin  \n",
       "0       NaN      NaN  \n",
       "1       NaN      NaN  \n",
       "2       NaN      NaN  \n",
       "3       NaN      NaN  \n",
       "4       NaN      NaN  \n",
       "..      ...      ...  \n",
       "67      NaN      NaN  \n",
       "68      NaN      NaN  \n",
       "69      NaN      NaN  \n",
       "70      NaN      NaN  \n",
       "71      NaN      NaN  \n",
       "\n",
       "[72 rows x 21 columns]"
      ]
     },
     "execution_count": 87,
     "metadata": {},
     "output_type": "execute_result"
    }
   ],
   "source": [
    "import pandas as pd \n",
    "\n",
    "data = pd.read_csv(\"https://raw.githubusercontent.com/drolsonmi/math3080/main/Datasets/weather_data_hourly.csv\", skiprows=25)\n",
    "data"
   ]
  },
  {
   "cell_type": "markdown",
   "metadata": {},
   "source": [
    "# Question 1\n",
    "* Without filling in any missing values, what is the mean Air Temperature for this dataset?"
   ]
  },
  {
   "cell_type": "code",
   "execution_count": 88,
   "metadata": {},
   "outputs": [
    {
     "data": {
      "text/plain": [
       "38.5"
      ]
     },
     "execution_count": 88,
     "metadata": {},
     "output_type": "execute_result"
    }
   ],
   "source": [
    "data['T'].mean()"
   ]
  },
  {
   "cell_type": "markdown",
   "metadata": {},
   "source": [
    "# Question 2\n",
    "- Without filling in any missing values, what is the mean Visibility for this dataset?"
   ]
  },
  {
   "cell_type": "code",
   "execution_count": 89,
   "metadata": {},
   "outputs": [
    {
     "data": {
      "text/plain": [
       "6.546511627906977"
      ]
     },
     "execution_count": 89,
     "metadata": {},
     "output_type": "execute_result"
    }
   ],
   "source": [
    "data['Vis'].mean()"
   ]
  },
  {
   "cell_type": "markdown",
   "metadata": {},
   "source": [
    "# Question 3\n",
    "- How mnay missing values are in the Wind Chill column?"
   ]
  },
  {
   "cell_type": "code",
   "execution_count": 90,
   "metadata": {},
   "outputs": [
    {
     "data": {
      "text/plain": [
       "43"
      ]
     },
     "execution_count": 90,
     "metadata": {},
     "output_type": "execute_result"
    }
   ],
   "source": [
    "data['WC'].isna().sum()"
   ]
  },
  {
   "cell_type": "markdown",
   "metadata": {},
   "source": [
    "# Question 4\n",
    "- Let's say that you decide to drop variables when more than half of the data is missing. How many columns would need to be dropped?"
   ]
  },
  {
   "cell_type": "code",
   "execution_count": 91,
   "metadata": {},
   "outputs": [
    {
     "data": {
      "text/plain": [
       "D/T            0\n",
       "T             10\n",
       "DPT            0\n",
       "RH             0\n",
       "WC            43\n",
       "WD             0\n",
       "WS             2\n",
       "Vis           29\n",
       "Wx            52\n",
       "Clds           0\n",
       "SLP           72\n",
       "Press          0\n",
       "Alt            0\n",
       "1hrprecip     64\n",
       "3hrprecip     72\n",
       "6hrprecip     72\n",
       "24hrprecip    72\n",
       "6hrmax        72\n",
       "6hrmin        72\n",
       "24hrmax       72\n",
       "24hrmin       72\n",
       "dtype: int64"
      ]
     },
     "execution_count": 91,
     "metadata": {},
     "output_type": "execute_result"
    }
   ],
   "source": [
    "data.isna().sum()"
   ]
  },
  {
   "cell_type": "markdown",
   "metadata": {},
   "source": [
    "# Question 5\n",
    "- Look at the Air Temperature column. Which would be the best option to fill those missing vlaues?\n",
    "* Average\n",
    "* Forward fill\n",
    "* Backward fill\n",
    "* Interpolate\n",
    "- Do the fill, then report the new average for the Air Tmeperature. Anser to the thousandths place. "
   ]
  },
  {
   "cell_type": "code",
   "execution_count": 92,
   "metadata": {},
   "outputs": [
    {
     "data": {
      "text/plain": [
       "38.576388888888886"
      ]
     },
     "execution_count": 92,
     "metadata": {},
     "output_type": "execute_result"
    }
   ],
   "source": [
    "# Average  = 38.5\n",
    "# Forward fill = 38.65277777777778\n",
    "# Backward fill = 38.5\n",
    "# Interpolate = 38.576388888888886\n",
    "\n",
    "data['T'].interpolate().mean()"
   ]
  },
  {
   "cell_type": "markdown",
   "metadata": {},
   "source": [
    "# Question 6\n",
    "- Look at the Visibility column. Which would be the best option to fill those missing vlaues?\n",
    "* Average\n",
    "* Forward fill\n",
    "* Backward fill\n",
    "* Interpolate\n",
    "- Do the fill, then report the new average for the Visibility. Anser to the thousandths place. "
   ]
  },
  {
   "cell_type": "code",
   "execution_count": 93,
   "metadata": {},
   "outputs": [
    {
     "data": {
      "text/plain": [
       "6.742857142857143"
      ]
     },
     "execution_count": 93,
     "metadata": {},
     "output_type": "execute_result"
    }
   ],
   "source": [
    "# Average  = 6.546511627906977\n",
    "# Forward fill = 7.164285714285715\n",
    "# Backward fill = 5.928571428571429\n",
    "# Interpolate = 6.742857142857143\n",
    "\n",
    "# data['Vis'].mean()\n",
    "# data['Vis'].fillna(method='bfill').mean()\n",
    "data['Vis'].interpolate().mean()"
   ]
  },
  {
   "cell_type": "markdown",
   "metadata": {},
   "source": [
    "# Question 7\n",
    "- Format the Date/Time column to be in dateime format. Create a column for the date and a column for the time. What was the average temperature for January 19?"
   ]
  },
  {
   "cell_type": "code",
   "execution_count": 94,
   "metadata": {},
   "outputs": [
    {
     "data": {
      "text/html": [
       "<div>\n",
       "<style scoped>\n",
       "    .dataframe tbody tr th:only-of-type {\n",
       "        vertical-align: middle;\n",
       "    }\n",
       "\n",
       "    .dataframe tbody tr th {\n",
       "        vertical-align: top;\n",
       "    }\n",
       "\n",
       "    .dataframe thead th {\n",
       "        text-align: right;\n",
       "    }\n",
       "</style>\n",
       "<table border=\"1\" class=\"dataframe\">\n",
       "  <thead>\n",
       "    <tr style=\"text-align: right;\">\n",
       "      <th></th>\n",
       "      <th>D/T</th>\n",
       "      <th>T</th>\n",
       "      <th>DPT</th>\n",
       "      <th>RH</th>\n",
       "      <th>WC</th>\n",
       "      <th>WD</th>\n",
       "      <th>WS</th>\n",
       "      <th>Vis</th>\n",
       "      <th>Wx</th>\n",
       "      <th>Clds</th>\n",
       "      <th>...</th>\n",
       "      <th>1hrprecip</th>\n",
       "      <th>3hrprecip</th>\n",
       "      <th>6hrprecip</th>\n",
       "      <th>24hrprecip</th>\n",
       "      <th>6hrmax</th>\n",
       "      <th>6hrmin</th>\n",
       "      <th>24hrmax</th>\n",
       "      <th>24hrmin</th>\n",
       "      <th>Date</th>\n",
       "      <th>Time</th>\n",
       "    </tr>\n",
       "  </thead>\n",
       "  <tbody>\n",
       "    <tr>\n",
       "      <th>0</th>\n",
       "      <td>Jan 22, 11:00 am</td>\n",
       "      <td>45.0</td>\n",
       "      <td>37</td>\n",
       "      <td>76</td>\n",
       "      <td>40.0</td>\n",
       "      <td>SE</td>\n",
       "      <td>8</td>\n",
       "      <td>NaN</td>\n",
       "      <td>NaN</td>\n",
       "      <td>OVC065</td>\n",
       "      <td>...</td>\n",
       "      <td>NaN</td>\n",
       "      <td>NaN</td>\n",
       "      <td>NaN</td>\n",
       "      <td>NaN</td>\n",
       "      <td>NaN</td>\n",
       "      <td>NaN</td>\n",
       "      <td>NaN</td>\n",
       "      <td>NaN</td>\n",
       "      <td>Jan 22</td>\n",
       "      <td>11:00 am</td>\n",
       "    </tr>\n",
       "    <tr>\n",
       "      <th>1</th>\n",
       "      <td>Jan 22, 10:00 am</td>\n",
       "      <td>NaN</td>\n",
       "      <td>35</td>\n",
       "      <td>79</td>\n",
       "      <td>34.0</td>\n",
       "      <td>S</td>\n",
       "      <td>13</td>\n",
       "      <td>NaN</td>\n",
       "      <td>NaN</td>\n",
       "      <td>OVC065</td>\n",
       "      <td>...</td>\n",
       "      <td>NaN</td>\n",
       "      <td>NaN</td>\n",
       "      <td>NaN</td>\n",
       "      <td>NaN</td>\n",
       "      <td>NaN</td>\n",
       "      <td>NaN</td>\n",
       "      <td>NaN</td>\n",
       "      <td>NaN</td>\n",
       "      <td>Jan 22</td>\n",
       "      <td>10:00 am</td>\n",
       "    </tr>\n",
       "    <tr>\n",
       "      <th>2</th>\n",
       "      <td>Jan 22, 9:00 am</td>\n",
       "      <td>37.0</td>\n",
       "      <td>36</td>\n",
       "      <td>93</td>\n",
       "      <td>NaN</td>\n",
       "      <td>ESE</td>\n",
       "      <td>3</td>\n",
       "      <td>6.0</td>\n",
       "      <td>Mist</td>\n",
       "      <td>OVC060</td>\n",
       "      <td>...</td>\n",
       "      <td>NaN</td>\n",
       "      <td>NaN</td>\n",
       "      <td>NaN</td>\n",
       "      <td>NaN</td>\n",
       "      <td>NaN</td>\n",
       "      <td>NaN</td>\n",
       "      <td>NaN</td>\n",
       "      <td>NaN</td>\n",
       "      <td>Jan 22</td>\n",
       "      <td>9:00 am</td>\n",
       "    </tr>\n",
       "    <tr>\n",
       "      <th>3</th>\n",
       "      <td>Jan 22, 8:00 am</td>\n",
       "      <td>34.0</td>\n",
       "      <td>32</td>\n",
       "      <td>93</td>\n",
       "      <td>NaN</td>\n",
       "      <td>ESE</td>\n",
       "      <td>5</td>\n",
       "      <td>6.0</td>\n",
       "      <td>Mist</td>\n",
       "      <td>BKN060</td>\n",
       "      <td>...</td>\n",
       "      <td>NaN</td>\n",
       "      <td>NaN</td>\n",
       "      <td>NaN</td>\n",
       "      <td>NaN</td>\n",
       "      <td>NaN</td>\n",
       "      <td>NaN</td>\n",
       "      <td>NaN</td>\n",
       "      <td>NaN</td>\n",
       "      <td>Jan 22</td>\n",
       "      <td>8:00 am</td>\n",
       "    </tr>\n",
       "    <tr>\n",
       "      <th>4</th>\n",
       "      <td>Jan 22, 7:00 am</td>\n",
       "      <td>34.0</td>\n",
       "      <td>32</td>\n",
       "      <td>92</td>\n",
       "      <td>29.0</td>\n",
       "      <td>SSE</td>\n",
       "      <td>6</td>\n",
       "      <td>6.0</td>\n",
       "      <td>Mist</td>\n",
       "      <td>CLR</td>\n",
       "      <td>...</td>\n",
       "      <td>NaN</td>\n",
       "      <td>NaN</td>\n",
       "      <td>NaN</td>\n",
       "      <td>NaN</td>\n",
       "      <td>NaN</td>\n",
       "      <td>NaN</td>\n",
       "      <td>NaN</td>\n",
       "      <td>NaN</td>\n",
       "      <td>Jan 22</td>\n",
       "      <td>7:00 am</td>\n",
       "    </tr>\n",
       "    <tr>\n",
       "      <th>...</th>\n",
       "      <td>...</td>\n",
       "      <td>...</td>\n",
       "      <td>...</td>\n",
       "      <td>...</td>\n",
       "      <td>...</td>\n",
       "      <td>...</td>\n",
       "      <td>...</td>\n",
       "      <td>...</td>\n",
       "      <td>...</td>\n",
       "      <td>...</td>\n",
       "      <td>...</td>\n",
       "      <td>...</td>\n",
       "      <td>...</td>\n",
       "      <td>...</td>\n",
       "      <td>...</td>\n",
       "      <td>...</td>\n",
       "      <td>...</td>\n",
       "      <td>...</td>\n",
       "      <td>...</td>\n",
       "      <td>...</td>\n",
       "      <td>...</td>\n",
       "    </tr>\n",
       "    <tr>\n",
       "      <th>67</th>\n",
       "      <td>Jan 19, 4:00 pm</td>\n",
       "      <td>NaN</td>\n",
       "      <td>30</td>\n",
       "      <td>60</td>\n",
       "      <td>39.0</td>\n",
       "      <td>NNW</td>\n",
       "      <td>6</td>\n",
       "      <td>NaN</td>\n",
       "      <td>NaN</td>\n",
       "      <td>CLR</td>\n",
       "      <td>...</td>\n",
       "      <td>NaN</td>\n",
       "      <td>NaN</td>\n",
       "      <td>NaN</td>\n",
       "      <td>NaN</td>\n",
       "      <td>NaN</td>\n",
       "      <td>NaN</td>\n",
       "      <td>NaN</td>\n",
       "      <td>NaN</td>\n",
       "      <td>Jan 19</td>\n",
       "      <td>4:00 pm</td>\n",
       "    </tr>\n",
       "    <tr>\n",
       "      <th>68</th>\n",
       "      <td>Jan 19, 3:00 pm</td>\n",
       "      <td>46.0</td>\n",
       "      <td>30</td>\n",
       "      <td>53</td>\n",
       "      <td>NaN</td>\n",
       "      <td>N</td>\n",
       "      <td>6</td>\n",
       "      <td>NaN</td>\n",
       "      <td>NaN</td>\n",
       "      <td>CLR</td>\n",
       "      <td>...</td>\n",
       "      <td>NaN</td>\n",
       "      <td>NaN</td>\n",
       "      <td>NaN</td>\n",
       "      <td>NaN</td>\n",
       "      <td>NaN</td>\n",
       "      <td>NaN</td>\n",
       "      <td>NaN</td>\n",
       "      <td>NaN</td>\n",
       "      <td>Jan 19</td>\n",
       "      <td>3:00 pm</td>\n",
       "    </tr>\n",
       "    <tr>\n",
       "      <th>69</th>\n",
       "      <td>Jan 19, 2:00 pm</td>\n",
       "      <td>50.0</td>\n",
       "      <td>31</td>\n",
       "      <td>48</td>\n",
       "      <td>NaN</td>\n",
       "      <td>N</td>\n",
       "      <td>0</td>\n",
       "      <td>NaN</td>\n",
       "      <td>NaN</td>\n",
       "      <td>CLR</td>\n",
       "      <td>...</td>\n",
       "      <td>NaN</td>\n",
       "      <td>NaN</td>\n",
       "      <td>NaN</td>\n",
       "      <td>NaN</td>\n",
       "      <td>NaN</td>\n",
       "      <td>NaN</td>\n",
       "      <td>NaN</td>\n",
       "      <td>NaN</td>\n",
       "      <td>Jan 19</td>\n",
       "      <td>2:00 pm</td>\n",
       "    </tr>\n",
       "    <tr>\n",
       "      <th>70</th>\n",
       "      <td>Jan 19, 1:00 pm</td>\n",
       "      <td>NaN</td>\n",
       "      <td>28</td>\n",
       "      <td>55</td>\n",
       "      <td>NaN</td>\n",
       "      <td>N</td>\n",
       "      <td>0</td>\n",
       "      <td>NaN</td>\n",
       "      <td>NaN</td>\n",
       "      <td>FEW100</td>\n",
       "      <td>...</td>\n",
       "      <td>NaN</td>\n",
       "      <td>NaN</td>\n",
       "      <td>NaN</td>\n",
       "      <td>NaN</td>\n",
       "      <td>NaN</td>\n",
       "      <td>NaN</td>\n",
       "      <td>NaN</td>\n",
       "      <td>NaN</td>\n",
       "      <td>Jan 19</td>\n",
       "      <td>1:00 pm</td>\n",
       "    </tr>\n",
       "    <tr>\n",
       "      <th>71</th>\n",
       "      <td>Jan 19, 12:00 pm</td>\n",
       "      <td>41.0</td>\n",
       "      <td>28</td>\n",
       "      <td>60</td>\n",
       "      <td>NaN</td>\n",
       "      <td>N</td>\n",
       "      <td>0</td>\n",
       "      <td>NaN</td>\n",
       "      <td>NaN</td>\n",
       "      <td>BKN120</td>\n",
       "      <td>...</td>\n",
       "      <td>NaN</td>\n",
       "      <td>NaN</td>\n",
       "      <td>NaN</td>\n",
       "      <td>NaN</td>\n",
       "      <td>NaN</td>\n",
       "      <td>NaN</td>\n",
       "      <td>NaN</td>\n",
       "      <td>NaN</td>\n",
       "      <td>Jan 19</td>\n",
       "      <td>12:00 pm</td>\n",
       "    </tr>\n",
       "  </tbody>\n",
       "</table>\n",
       "<p>72 rows × 23 columns</p>\n",
       "</div>"
      ],
      "text/plain": [
       "                 D/T     T  DPT  RH    WC   WD  WS  Vis    Wx    Clds  ...  \\\n",
       "0   Jan 22, 11:00 am  45.0   37  76  40.0   SE   8  NaN   NaN  OVC065  ...   \n",
       "1   Jan 22, 10:00 am   NaN   35  79  34.0    S  13  NaN   NaN  OVC065  ...   \n",
       "2    Jan 22, 9:00 am  37.0   36  93   NaN  ESE   3  6.0  Mist  OVC060  ...   \n",
       "3    Jan 22, 8:00 am  34.0   32  93   NaN  ESE   5  6.0  Mist  BKN060  ...   \n",
       "4    Jan 22, 7:00 am  34.0   32  92  29.0  SSE   6  6.0  Mist     CLR  ...   \n",
       "..               ...   ...  ...  ..   ...  ...  ..  ...   ...     ...  ...   \n",
       "67   Jan 19, 4:00 pm   NaN   30  60  39.0  NNW   6  NaN   NaN     CLR  ...   \n",
       "68   Jan 19, 3:00 pm  46.0   30  53   NaN    N   6  NaN   NaN     CLR  ...   \n",
       "69   Jan 19, 2:00 pm  50.0   31  48   NaN    N   0  NaN   NaN     CLR  ...   \n",
       "70   Jan 19, 1:00 pm   NaN   28  55   NaN    N   0  NaN   NaN  FEW100  ...   \n",
       "71  Jan 19, 12:00 pm  41.0   28  60   NaN    N   0  NaN   NaN  BKN120  ...   \n",
       "\n",
       "    1hrprecip  3hrprecip  6hrprecip 24hrprecip  6hrmax  6hrmin  24hrmax  \\\n",
       "0         NaN        NaN        NaN        NaN     NaN     NaN      NaN   \n",
       "1         NaN        NaN        NaN        NaN     NaN     NaN      NaN   \n",
       "2         NaN        NaN        NaN        NaN     NaN     NaN      NaN   \n",
       "3         NaN        NaN        NaN        NaN     NaN     NaN      NaN   \n",
       "4         NaN        NaN        NaN        NaN     NaN     NaN      NaN   \n",
       "..        ...        ...        ...        ...     ...     ...      ...   \n",
       "67        NaN        NaN        NaN        NaN     NaN     NaN      NaN   \n",
       "68        NaN        NaN        NaN        NaN     NaN     NaN      NaN   \n",
       "69        NaN        NaN        NaN        NaN     NaN     NaN      NaN   \n",
       "70        NaN        NaN        NaN        NaN     NaN     NaN      NaN   \n",
       "71        NaN        NaN        NaN        NaN     NaN     NaN      NaN   \n",
       "\n",
       "    24hrmin    Date       Time  \n",
       "0       NaN  Jan 22   11:00 am  \n",
       "1       NaN  Jan 22   10:00 am  \n",
       "2       NaN  Jan 22    9:00 am  \n",
       "3       NaN  Jan 22    8:00 am  \n",
       "4       NaN  Jan 22    7:00 am  \n",
       "..      ...     ...        ...  \n",
       "67      NaN  Jan 19    4:00 pm  \n",
       "68      NaN  Jan 19    3:00 pm  \n",
       "69      NaN  Jan 19    2:00 pm  \n",
       "70      NaN  Jan 19    1:00 pm  \n",
       "71      NaN  Jan 19   12:00 pm  \n",
       "\n",
       "[72 rows x 23 columns]"
      ]
     },
     "execution_count": 94,
     "metadata": {},
     "output_type": "execute_result"
    }
   ],
   "source": [
    "data['Date'], data['Time'] = zip(*data['D/T'].str.split(','))\n",
    "data"
   ]
  },
  {
   "cell_type": "code",
   "execution_count": 95,
   "metadata": {},
   "outputs": [
    {
     "data": {
      "text/plain": [
       "39.55555555555556"
      ]
     },
     "execution_count": 95,
     "metadata": {},
     "output_type": "execute_result"
    }
   ],
   "source": [
    "data['T'].where(data['Date'] == \"Jan 19\").mean()\n"
   ]
  },
  {
   "cell_type": "markdown",
   "metadata": {},
   "source": [
    "# Question 8 \n",
    "- Was January 19 warmer or colder than the rest of the days in this dataset?"
   ]
  },
  {
   "cell_type": "code",
   "execution_count": 96,
   "metadata": {},
   "outputs": [
    {
     "data": {
      "text/plain": [
       "38.5"
      ]
     },
     "execution_count": 96,
     "metadata": {},
     "output_type": "execute_result"
    }
   ],
   "source": [
    "data['T'].where(data['Date'] == \"Jan 19\").mean()\n",
    "# 39.55555555555556\n",
    "data['T'].mean()\n",
    "# 38.5"
   ]
  },
  {
   "cell_type": "markdown",
   "metadata": {},
   "source": [
    "# Question 9\n",
    "- The coldest time of day is generally 6:00 am, just before sunrise. What was the 6:00 am average temperature for this period?"
   ]
  },
  {
   "cell_type": "code",
   "execution_count": 115,
   "metadata": {},
   "outputs": [
    {
     "data": {
      "text/plain": [
       "32.333333333333336"
      ]
     },
     "execution_count": 115,
     "metadata": {},
     "output_type": "execute_result"
    }
   ],
   "source": [
    "data[data['Time'].str.contains('6:00 am')]['T'].mean()"
   ]
  },
  {
   "cell_type": "markdown",
   "metadata": {},
   "source": [
    "# Question 10\n",
    "- If you used inplace=True earler, you will want to reload the data from scratch for the rest of these quests. What ws the average visibility for Januarty 22? Anser to the nearest thousandth decimal place. "
   ]
  },
  {
   "cell_type": "code",
   "execution_count": 98,
   "metadata": {},
   "outputs": [
    {
     "data": {
      "text/plain": [
       "6.666666666666667"
      ]
     },
     "execution_count": 98,
     "metadata": {},
     "output_type": "execute_result"
    }
   ],
   "source": [
    "data\n",
    "data['Vis'].where(data['Date'] == \"Jan 22\").dropna().mean()\n"
   ]
  },
  {
   "cell_type": "markdown",
   "metadata": {},
   "source": [
    "# Question 11\n",
    "- Fill in the missing values for January 22 with the average visibility for the entire dataset. What is the new average visibility for January 22? Answer to the nearst thousandth decimal place. (Use inplace=False so we don't mess up the data for the next question)"
   ]
  },
  {
   "cell_type": "code",
   "execution_count": 102,
   "metadata": {},
   "outputs": [
    {
     "data": {
      "text/plain": [
       "6.546511627906977"
      ]
     },
     "execution_count": 102,
     "metadata": {},
     "output_type": "execute_result"
    }
   ],
   "source": [
    "data['Vis'].fillna(data['Vis'].dropna().mean()).mean()"
   ]
  },
  {
   "cell_type": "markdown",
   "metadata": {},
   "source": [
    "# Question 12\n",
    "- Fill in the missing values for January 22 with the average visibility for only January 22. What is the new average visibility for January 22? Anser to the nearest thousandth decimal place. "
   ]
  },
  {
   "cell_type": "code",
   "execution_count": 104,
   "metadata": {},
   "outputs": [
    {
     "data": {
      "text/plain": [
       "6.594907407407407"
      ]
     },
     "execution_count": 104,
     "metadata": {},
     "output_type": "execute_result"
    }
   ],
   "source": [
    "data['Vis'].fillna(data['Vis'].where(data['Date'] == \"Jan 22\").dropna().mean(), inplace=False).mean()"
   ]
  },
  {
   "cell_type": "markdown",
   "metadata": {},
   "source": [
    "# Question 13\n",
    "- Which fill method brought the average visibilty closest to the original from Question 10"
   ]
  },
  {
   "cell_type": "code",
   "execution_count": 107,
   "metadata": {},
   "outputs": [
    {
     "data": {
      "text/plain": [
       "6.594907407407407"
      ]
     },
     "execution_count": 107,
     "metadata": {},
     "output_type": "execute_result"
    }
   ],
   "source": [
    "data['Vis'].where(data['Date'] == \"Jan 22\").dropna().mean()\n",
    "# 6.666666666666667\n",
    "data['Vis'].fillna(data['Vis'].dropna().mean()).mean()\n",
    "# 6.546511627906977\n",
    "data['Vis'].fillna(data['Vis'].where(data['Date'] == \"Jan 22\").dropna().mean(), inplace=False).mean()\n",
    "# 6.594907407407407"
   ]
  }
 ],
 "metadata": {
  "kernelspec": {
   "display_name": "Python 3",
   "language": "python",
   "name": "python3"
  },
  "language_info": {
   "codemirror_mode": {
    "name": "ipython",
    "version": 3
   },
   "file_extension": ".py",
   "mimetype": "text/x-python",
   "name": "python",
   "nbconvert_exporter": "python",
   "pygments_lexer": "ipython3",
   "version": "3.10.4"
  }
 },
 "nbformat": 4,
 "nbformat_minor": 2
}
