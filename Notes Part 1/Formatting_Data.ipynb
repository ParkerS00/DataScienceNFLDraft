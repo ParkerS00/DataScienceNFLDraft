{
 "cells": [
  {
   "cell_type": "markdown",
   "metadata": {},
   "source": [
    "## Formating the data\n",
    "- making a data frame with the columns and then splitting on the open space"
   ]
  },
  {
   "cell_type": "code",
   "execution_count": 16,
   "metadata": {},
   "outputs": [
    {
     "data": {
      "text/plain": [
       "0    [2024-01-01, 12:48:41]\n",
       "1    [2024-01-02, 12:54:14]\n",
       "2    [2024-01-03, 12:06:53]\n",
       "3    [2024-01-04, 12:14:17]\n",
       "4    [2024-01-05, 12:42:39]\n",
       "5    [2024-01-06, 12:36:27]\n",
       "Name: Date/Time, dtype: object"
      ]
     },
     "execution_count": 16,
     "metadata": {},
     "output_type": "execute_result"
    }
   ],
   "source": [
    "import pandas as pd \n",
    "\n",
    "data = pd.DataFrame(['2024-01-01 12:48:41',\n",
    "                     '2024-01-02 12:54:14',\n",
    "                     '2024-01-03 12:06:53',\n",
    "                     '2024-01-04 12:14:17',\n",
    "                     '2024-01-05 12:42:39',\n",
    "                     '2024-01-06 12:36:27' ], columns=['Date/Time'])\n",
    "\n",
    "data['Date/Time'].str.split(' ')"
   ]
  },
  {
   "cell_type": "markdown",
   "metadata": {},
   "source": [
    "#### splitting up the date and the time into two different columns\n",
    "- then splitting the date into year, month, day\n",
    "- then splitting the year into hour, minute, second"
   ]
  },
  {
   "cell_type": "code",
   "execution_count": 17,
   "metadata": {},
   "outputs": [
    {
     "data": {
      "text/html": [
       "<div>\n",
       "<style scoped>\n",
       "    .dataframe tbody tr th:only-of-type {\n",
       "        vertical-align: middle;\n",
       "    }\n",
       "\n",
       "    .dataframe tbody tr th {\n",
       "        vertical-align: top;\n",
       "    }\n",
       "\n",
       "    .dataframe thead th {\n",
       "        text-align: right;\n",
       "    }\n",
       "</style>\n",
       "<table border=\"1\" class=\"dataframe\">\n",
       "  <thead>\n",
       "    <tr style=\"text-align: right;\">\n",
       "      <th></th>\n",
       "      <th>Date/Time</th>\n",
       "      <th>Date</th>\n",
       "      <th>Time</th>\n",
       "    </tr>\n",
       "  </thead>\n",
       "  <tbody>\n",
       "    <tr>\n",
       "      <th>0</th>\n",
       "      <td>2024-01-01 12:48:41</td>\n",
       "      <td>2024-01-01</td>\n",
       "      <td>12:48:41</td>\n",
       "    </tr>\n",
       "    <tr>\n",
       "      <th>1</th>\n",
       "      <td>2024-01-02 12:54:14</td>\n",
       "      <td>2024-01-02</td>\n",
       "      <td>12:54:14</td>\n",
       "    </tr>\n",
       "    <tr>\n",
       "      <th>2</th>\n",
       "      <td>2024-01-03 12:06:53</td>\n",
       "      <td>2024-01-03</td>\n",
       "      <td>12:06:53</td>\n",
       "    </tr>\n",
       "    <tr>\n",
       "      <th>3</th>\n",
       "      <td>2024-01-04 12:14:17</td>\n",
       "      <td>2024-01-04</td>\n",
       "      <td>12:14:17</td>\n",
       "    </tr>\n",
       "    <tr>\n",
       "      <th>4</th>\n",
       "      <td>2024-01-05 12:42:39</td>\n",
       "      <td>2024-01-05</td>\n",
       "      <td>12:42:39</td>\n",
       "    </tr>\n",
       "    <tr>\n",
       "      <th>5</th>\n",
       "      <td>2024-01-06 12:36:27</td>\n",
       "      <td>2024-01-06</td>\n",
       "      <td>12:36:27</td>\n",
       "    </tr>\n",
       "  </tbody>\n",
       "</table>\n",
       "</div>"
      ],
      "text/plain": [
       "             Date/Time        Date      Time\n",
       "0  2024-01-01 12:48:41  2024-01-01  12:48:41\n",
       "1  2024-01-02 12:54:14  2024-01-02  12:54:14\n",
       "2  2024-01-03 12:06:53  2024-01-03  12:06:53\n",
       "3  2024-01-04 12:14:17  2024-01-04  12:14:17\n",
       "4  2024-01-05 12:42:39  2024-01-05  12:42:39\n",
       "5  2024-01-06 12:36:27  2024-01-06  12:36:27"
      ]
     },
     "execution_count": 17,
     "metadata": {},
     "output_type": "execute_result"
    }
   ],
   "source": [
    "data['Date'], data['Time'] = zip(*data['Date/Time'].str.split(' '))\n",
    "data"
   ]
  },
  {
   "cell_type": "code",
   "execution_count": 18,
   "metadata": {},
   "outputs": [
    {
     "data": {
      "text/html": [
       "<div>\n",
       "<style scoped>\n",
       "    .dataframe tbody tr th:only-of-type {\n",
       "        vertical-align: middle;\n",
       "    }\n",
       "\n",
       "    .dataframe tbody tr th {\n",
       "        vertical-align: top;\n",
       "    }\n",
       "\n",
       "    .dataframe thead th {\n",
       "        text-align: right;\n",
       "    }\n",
       "</style>\n",
       "<table border=\"1\" class=\"dataframe\">\n",
       "  <thead>\n",
       "    <tr style=\"text-align: right;\">\n",
       "      <th></th>\n",
       "      <th>Date/Time</th>\n",
       "      <th>Date</th>\n",
       "      <th>Time</th>\n",
       "      <th>Year</th>\n",
       "      <th>Month</th>\n",
       "      <th>Day</th>\n",
       "      <th>Hour</th>\n",
       "      <th>Minute</th>\n",
       "      <th>Second</th>\n",
       "    </tr>\n",
       "  </thead>\n",
       "  <tbody>\n",
       "    <tr>\n",
       "      <th>0</th>\n",
       "      <td>2024-01-01 12:48:41</td>\n",
       "      <td>2024-01-01</td>\n",
       "      <td>12:48:41</td>\n",
       "      <td>2024</td>\n",
       "      <td>01</td>\n",
       "      <td>01</td>\n",
       "      <td>12</td>\n",
       "      <td>48</td>\n",
       "      <td>41</td>\n",
       "    </tr>\n",
       "    <tr>\n",
       "      <th>1</th>\n",
       "      <td>2024-01-02 12:54:14</td>\n",
       "      <td>2024-01-02</td>\n",
       "      <td>12:54:14</td>\n",
       "      <td>2024</td>\n",
       "      <td>01</td>\n",
       "      <td>02</td>\n",
       "      <td>12</td>\n",
       "      <td>54</td>\n",
       "      <td>14</td>\n",
       "    </tr>\n",
       "    <tr>\n",
       "      <th>2</th>\n",
       "      <td>2024-01-03 12:06:53</td>\n",
       "      <td>2024-01-03</td>\n",
       "      <td>12:06:53</td>\n",
       "      <td>2024</td>\n",
       "      <td>01</td>\n",
       "      <td>03</td>\n",
       "      <td>12</td>\n",
       "      <td>06</td>\n",
       "      <td>53</td>\n",
       "    </tr>\n",
       "    <tr>\n",
       "      <th>3</th>\n",
       "      <td>2024-01-04 12:14:17</td>\n",
       "      <td>2024-01-04</td>\n",
       "      <td>12:14:17</td>\n",
       "      <td>2024</td>\n",
       "      <td>01</td>\n",
       "      <td>04</td>\n",
       "      <td>12</td>\n",
       "      <td>14</td>\n",
       "      <td>17</td>\n",
       "    </tr>\n",
       "    <tr>\n",
       "      <th>4</th>\n",
       "      <td>2024-01-05 12:42:39</td>\n",
       "      <td>2024-01-05</td>\n",
       "      <td>12:42:39</td>\n",
       "      <td>2024</td>\n",
       "      <td>01</td>\n",
       "      <td>05</td>\n",
       "      <td>12</td>\n",
       "      <td>42</td>\n",
       "      <td>39</td>\n",
       "    </tr>\n",
       "    <tr>\n",
       "      <th>5</th>\n",
       "      <td>2024-01-06 12:36:27</td>\n",
       "      <td>2024-01-06</td>\n",
       "      <td>12:36:27</td>\n",
       "      <td>2024</td>\n",
       "      <td>01</td>\n",
       "      <td>06</td>\n",
       "      <td>12</td>\n",
       "      <td>36</td>\n",
       "      <td>27</td>\n",
       "    </tr>\n",
       "  </tbody>\n",
       "</table>\n",
       "</div>"
      ],
      "text/plain": [
       "             Date/Time        Date      Time  Year Month Day Hour Minute  \\\n",
       "0  2024-01-01 12:48:41  2024-01-01  12:48:41  2024    01  01   12     48   \n",
       "1  2024-01-02 12:54:14  2024-01-02  12:54:14  2024    01  02   12     54   \n",
       "2  2024-01-03 12:06:53  2024-01-03  12:06:53  2024    01  03   12     06   \n",
       "3  2024-01-04 12:14:17  2024-01-04  12:14:17  2024    01  04   12     14   \n",
       "4  2024-01-05 12:42:39  2024-01-05  12:42:39  2024    01  05   12     42   \n",
       "5  2024-01-06 12:36:27  2024-01-06  12:36:27  2024    01  06   12     36   \n",
       "\n",
       "  Second  \n",
       "0     41  \n",
       "1     14  \n",
       "2     53  \n",
       "3     17  \n",
       "4     39  \n",
       "5     27  "
      ]
     },
     "execution_count": 18,
     "metadata": {},
     "output_type": "execute_result"
    }
   ],
   "source": [
    "data['Year'], data['Month'], data['Day'] = zip(*data['Date'].str.split('-'))\n",
    "data['Hour'], data['Minute'], data['Second'] = zip(*data['Time'].str.split(':'))\n",
    "data"
   ]
  },
  {
   "cell_type": "code",
   "execution_count": 19,
   "metadata": {},
   "outputs": [
    {
     "data": {
      "text/html": [
       "<div>\n",
       "<style scoped>\n",
       "    .dataframe tbody tr th:only-of-type {\n",
       "        vertical-align: middle;\n",
       "    }\n",
       "\n",
       "    .dataframe tbody tr th {\n",
       "        vertical-align: top;\n",
       "    }\n",
       "\n",
       "    .dataframe thead th {\n",
       "        text-align: right;\n",
       "    }\n",
       "</style>\n",
       "<table border=\"1\" class=\"dataframe\">\n",
       "  <thead>\n",
       "    <tr style=\"text-align: right;\">\n",
       "      <th></th>\n",
       "      <th>Date/Time</th>\n",
       "      <th>Date</th>\n",
       "      <th>Time</th>\n",
       "      <th>Year</th>\n",
       "      <th>Month</th>\n",
       "      <th>Day</th>\n",
       "      <th>Hour</th>\n",
       "      <th>Minute</th>\n",
       "      <th>Second</th>\n",
       "    </tr>\n",
       "  </thead>\n",
       "  <tbody>\n",
       "    <tr>\n",
       "      <th>0</th>\n",
       "      <td>2024-01-01 12:48:41</td>\n",
       "      <td>2024-01-01</td>\n",
       "      <td>12:48:41</td>\n",
       "      <td>2024</td>\n",
       "      <td>01</td>\n",
       "      <td>01</td>\n",
       "      <td>12</td>\n",
       "      <td>48</td>\n",
       "      <td>41</td>\n",
       "    </tr>\n",
       "    <tr>\n",
       "      <th>1</th>\n",
       "      <td>2024-01-02 12:54:14</td>\n",
       "      <td>2024-01-02</td>\n",
       "      <td>12:54:14</td>\n",
       "      <td>2024</td>\n",
       "      <td>01</td>\n",
       "      <td>02</td>\n",
       "      <td>12</td>\n",
       "      <td>54</td>\n",
       "      <td>14</td>\n",
       "    </tr>\n",
       "    <tr>\n",
       "      <th>2</th>\n",
       "      <td>2024-01-03 12:06:53</td>\n",
       "      <td>2024-01-03</td>\n",
       "      <td>12:06:53</td>\n",
       "      <td>2024</td>\n",
       "      <td>01</td>\n",
       "      <td>03</td>\n",
       "      <td>12</td>\n",
       "      <td>6</td>\n",
       "      <td>53</td>\n",
       "    </tr>\n",
       "    <tr>\n",
       "      <th>3</th>\n",
       "      <td>2024-01-04 12:14:17</td>\n",
       "      <td>2024-01-04</td>\n",
       "      <td>12:14:17</td>\n",
       "      <td>2024</td>\n",
       "      <td>01</td>\n",
       "      <td>04</td>\n",
       "      <td>12</td>\n",
       "      <td>14</td>\n",
       "      <td>17</td>\n",
       "    </tr>\n",
       "    <tr>\n",
       "      <th>4</th>\n",
       "      <td>2024-01-05 12:42:39</td>\n",
       "      <td>2024-01-05</td>\n",
       "      <td>12:42:39</td>\n",
       "      <td>2024</td>\n",
       "      <td>01</td>\n",
       "      <td>05</td>\n",
       "      <td>12</td>\n",
       "      <td>42</td>\n",
       "      <td>39</td>\n",
       "    </tr>\n",
       "    <tr>\n",
       "      <th>5</th>\n",
       "      <td>2024-01-06 12:36:27</td>\n",
       "      <td>2024-01-06</td>\n",
       "      <td>12:36:27</td>\n",
       "      <td>2024</td>\n",
       "      <td>01</td>\n",
       "      <td>06</td>\n",
       "      <td>12</td>\n",
       "      <td>36</td>\n",
       "      <td>27</td>\n",
       "    </tr>\n",
       "  </tbody>\n",
       "</table>\n",
       "</div>"
      ],
      "text/plain": [
       "             Date/Time        Date      Time  Year Month Day  Hour  Minute  \\\n",
       "0  2024-01-01 12:48:41  2024-01-01  12:48:41  2024    01  01    12      48   \n",
       "1  2024-01-02 12:54:14  2024-01-02  12:54:14  2024    01  02    12      54   \n",
       "2  2024-01-03 12:06:53  2024-01-03  12:06:53  2024    01  03    12       6   \n",
       "3  2024-01-04 12:14:17  2024-01-04  12:14:17  2024    01  04    12      14   \n",
       "4  2024-01-05 12:42:39  2024-01-05  12:42:39  2024    01  05    12      42   \n",
       "5  2024-01-06 12:36:27  2024-01-06  12:36:27  2024    01  06    12      36   \n",
       "\n",
       "   Second  \n",
       "0      41  \n",
       "1      14  \n",
       "2      53  \n",
       "3      17  \n",
       "4      39  \n",
       "5      27  "
      ]
     },
     "execution_count": 19,
     "metadata": {},
     "output_type": "execute_result"
    }
   ],
   "source": [
    "data['Second'] = data['Second'].apply(int)\n",
    "data['Minute'] = data['Minute'].apply(int)\n",
    "data['Hour'] = data['Hour'].apply(int)\n",
    "data"
   ]
  },
  {
   "cell_type": "code",
   "execution_count": 20,
   "metadata": {},
   "outputs": [
    {
     "data": {
      "text/plain": [
       "200"
      ]
     },
     "execution_count": 20,
     "metadata": {},
     "output_type": "execute_result"
    }
   ],
   "source": [
    "data['Minute'].sum()"
   ]
  },
  {
   "cell_type": "code",
   "execution_count": 21,
   "metadata": {},
   "outputs": [
    {
     "data": {
      "text/plain": [
       "0    41\n",
       "1    41\n",
       "2    41\n",
       "3    41\n",
       "4    41\n",
       "5    41\n",
       "dtype: object"
      ]
     },
     "execution_count": 21,
     "metadata": {},
     "output_type": "execute_result"
    }
   ],
   "source": [
    "# data.apply(lambda x: x['Year'] + x['Month']/12 + x['Day']/(12*30), axis=1) This no worky\n",
    "data.apply(lambda x: x['Year'][3] + x['Month'][1], axis=1) # seperating out invdividual string characters and joining them together"
   ]
  },
  {
   "cell_type": "code",
   "execution_count": 24,
   "metadata": {},
   "outputs": [
    {
     "data": {
      "text/plain": [
       "0    01\n",
       "1    02\n",
       "2    03\n",
       "3    04\n",
       "4    05\n",
       "5    06\n",
       "Name: Date/Time, dtype: object"
      ]
     },
     "execution_count": 24,
     "metadata": {},
     "output_type": "execute_result"
    }
   ],
   "source": [
    "# Brute force slicing of the strings to get what we want from it \n",
    "data['Date/Time'].apply(lambda x: x[8:10]) "
   ]
  },
  {
   "cell_type": "markdown",
   "metadata": {},
   "source": [
    "#### Datetime Format"
   ]
  },
  {
   "cell_type": "code",
   "execution_count": 33,
   "metadata": {},
   "outputs": [
    {
     "name": "stdout",
     "output_type": "stream",
     "text": [
      "1 31 ,  2024\n",
      "9 : 9.0\n"
     ]
    }
   ],
   "source": [
    "from datetime import datetime\n",
    "\n",
    "now = datetime.now()\n",
    "print(now.month, now.day, \", \", now.year)\n",
    "print(now.hour, \":\", now.minute + now.second/60)"
   ]
  },
  {
   "cell_type": "code",
   "execution_count": 32,
   "metadata": {},
   "outputs": [
    {
     "data": {
      "text/plain": [
       "datetime.time(8, 15, 54)"
      ]
     },
     "execution_count": 32,
     "metadata": {},
     "output_type": "execute_result"
    }
   ],
   "source": [
    "# Convert a date into datetime format\n",
    "timestamp = datetime(2018, 5, 5, 8, 15, 54)\n",
    "timestamp.date()\n",
    "timestamp.time()"
   ]
  },
  {
   "cell_type": "code",
   "execution_count": 36,
   "metadata": {},
   "outputs": [
    {
     "name": "stdout",
     "output_type": "stream",
     "text": [
      "2024-01-31 09:11:32.764701\n",
      "2024-01-31 16:11:32.764701+00:00\n",
      "2024-01-31 11:11:32.764701-05:00\n"
     ]
    }
   ],
   "source": [
    "# Timezones\n",
    "import pytz\n",
    "\n",
    "tz = pytz.timezone('UTC')\n",
    "tz2 = pytz.timezone('US/Eastern')\n",
    "\n",
    "print(datetime.now())\n",
    "print(datetime.now(tz))\n",
    "print(datetime.now(tz2))"
   ]
  },
  {
   "cell_type": "code",
   "execution_count": 39,
   "metadata": {},
   "outputs": [
    {
     "data": {
      "text/plain": [
       "datetime.timedelta(days=8433, seconds=14280)"
      ]
     },
     "execution_count": 39,
     "metadata": {},
     "output_type": "execute_result"
    }
   ],
   "source": [
    "# Changes in Time\n",
    "datetime(2024, 1, 31, 9, 15) - datetime(2000, 12, 29, 5, 17)"
   ]
  },
  {
   "cell_type": "code",
   "execution_count": 41,
   "metadata": {},
   "outputs": [
    {
     "data": {
      "text/plain": [
       "datetime.datetime(2000, 12, 29, 0, 0)"
      ]
     },
     "execution_count": 41,
     "metadata": {},
     "output_type": "execute_result"
    }
   ],
   "source": [
    "from datetime import timedelta\n",
    "datetime(2024,1,31) - timedelta(days=8433)"
   ]
  },
  {
   "cell_type": "code",
   "execution_count": 46,
   "metadata": {},
   "outputs": [
    {
     "data": {
      "text/plain": [
       "'09:22:09 31 Jan 2024'"
      ]
     },
     "execution_count": 46,
     "metadata": {},
     "output_type": "execute_result"
    }
   ],
   "source": [
    "# Datetime to string\n",
    "str(datetime.now())\n",
    "\n",
    "datetime.now().strftime(\"%H:%M:%S %d %h %Y\")"
   ]
  }
 ],
 "metadata": {
  "kernelspec": {
   "display_name": "Python 3",
   "language": "python",
   "name": "python3"
  },
  "language_info": {
   "codemirror_mode": {
    "name": "ipython",
    "version": 3
   },
   "file_extension": ".py",
   "mimetype": "text/x-python",
   "name": "python",
   "nbconvert_exporter": "python",
   "pygments_lexer": "ipython3",
   "version": "3.10.4"
  }
 },
 "nbformat": 4,
 "nbformat_minor": 2
}
