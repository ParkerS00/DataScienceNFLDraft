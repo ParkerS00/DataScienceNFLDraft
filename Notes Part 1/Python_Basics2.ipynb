{
 "cells": [
  {
   "cell_type": "markdown",
   "metadata": {},
   "source": [
    "## JAN 19 2024\n",
    "\n",
    "1. Go into linux and run python3 -m venv \"Name of file\"\n",
    "2. run source \"Name of file\"/bin/activate\n",
    "3. say python to have a virtual version of python running in terminal\n",
    "4. will need to download and upgrade packages in there will be a fresh version\n",
    "5. pip --upgrade pip\n",
    "6. pip install ipykernal\n",
    "7. python3 -m ipykernal install --user --name myenv --display-name \"Python (myenv)\""
   ]
  },
  {
   "cell_type": "markdown",
   "metadata": {},
   "source": [
    "## Array of Random Numbers"
   ]
  },
  {
   "cell_type": "code",
   "execution_count": 19,
   "metadata": {},
   "outputs": [
    {
     "data": {
      "text/plain": [
       "array([[0.63190456, 0.30034274, 0.31868738, 0.56888138],\n",
       "       [0.01972235, 0.60978639, 0.52218526, 0.19592995]])"
      ]
     },
     "execution_count": 19,
     "metadata": {},
     "output_type": "execute_result"
    }
   ],
   "source": [
    "import numpy as np \n",
    "\n",
    "np.random.randint(0,40)\n",
    "\n",
    "np.random.randint(0,40, size=100) # Gives an array of 100 random ints between 0 and 40\n",
    "\n",
    "rnd_nums = np.random.randint(40, size=100) # Gives an array of 100 random ints less than 40\n",
    "\n",
    "np.random.rand(2,4) # Gives an array of size 2 by 4 with random values seeminlgy less than 1"
   ]
  },
  {
   "cell_type": "markdown",
   "metadata": {},
   "source": [
    "## For Loops"
   ]
  },
  {
   "cell_type": "code",
   "execution_count": 20,
   "metadata": {},
   "outputs": [
    {
     "name": "stdout",
     "output_type": "stream",
     "text": [
      "0  :  42\n",
      "1  :  28\n",
      "2  :  72\n",
      "3  :  62\n",
      "4  :  60\n"
     ]
    }
   ],
   "source": [
    "for i in range(5):\n",
    "    print(i, \" : \", rnd_nums[i]*2)"
   ]
  },
  {
   "cell_type": "code",
   "execution_count": 22,
   "metadata": {},
   "outputs": [
    {
     "data": {
      "text/plain": [
       "2084"
      ]
     },
     "execution_count": 22,
     "metadata": {},
     "output_type": "execute_result"
    }
   ],
   "source": [
    "total = 0\n",
    "for i in range(len(rnd_nums)):\n",
    "    total += rnd_nums[i]\n",
    "\n",
    "total"
   ]
  },
  {
   "cell_type": "code",
   "execution_count": 23,
   "metadata": {},
   "outputs": [
    {
     "data": {
      "text/plain": [
       "2084"
      ]
     },
     "execution_count": 23,
     "metadata": {},
     "output_type": "execute_result"
    }
   ],
   "source": [
    "total = 0\n",
    "for value in rnd_nums:\n",
    "    total += value\n",
    "\n",
    "total"
   ]
  },
  {
   "cell_type": "code",
   "execution_count": 27,
   "metadata": {},
   "outputs": [
    {
     "name": "stdout",
     "output_type": "stream",
     "text": [
      "[42, 28, 72, 62, 60, 76, 4, 18, 50, 70, 24, 34, 68, 12, 66, 32, 38, 46, 70, 26, 2, 78, 54, 32, 22, 54, 20, 64, 64, 8, 18, 26, 20, 34, 22, 52, 16, 36, 78, 14, 56, 28, 38, 22, 50, 70, 36, 28, 52, 24, 52, 30, 28, 56, 62, 20, 30, 78, 68, 36, 78, 44, 2, 62, 34, 28, 22, 40, 42, 68, 18, 76, 14, 24, 72, 10, 74, 30, 44, 70, 68, 24, 70, 68, 14, 44, 14, 14, 18, 50, 56, 40, 2, 64, 74, 40, 2, 28, 76, 74]\n"
     ]
    }
   ],
   "source": [
    "print([value * 2 for value in rnd_nums])"
   ]
  },
  {
   "cell_type": "markdown",
   "metadata": {},
   "source": [
    "## If Statements"
   ]
  },
  {
   "cell_type": "code",
   "execution_count": 26,
   "metadata": {},
   "outputs": [
    {
     "name": "stdout",
     "output_type": "stream",
     "text": [
      "[False, True, True, False, True, True, True, False, False, False, True, False, True, True, False, True, False, False, False, False, False, False, False, True, False, False, True, True, True, True, False, False, True, False, False, True, True, True, False, False, True, True, False, False, False, False, True, True, True, True, True, False, True, True, False, True, False, False, True, True, False, True, False, False, False, True, False, True, False, True, False, True, False, True, True, False, False, False, True, False, True, True, False, True, False, True, False, False, False, False, True, True, False, True, False, True, False, True, True, False]\n"
     ]
    }
   ],
   "source": [
    "evens = []\n",
    "\n",
    "for value in rnd_nums:\n",
    "    if (value%2) == 0:\n",
    "        evens.append(True)\n",
    "    else:\n",
    "        evens.append(False)\n",
    "\n",
    "print(evens)"
   ]
  },
  {
   "cell_type": "code",
   "execution_count": 28,
   "metadata": {},
   "outputs": [
    {
     "name": "stdout",
     "output_type": "stream",
     "text": [
      "[False, True, True, False, True, True, True, False, False, False, True, False, True, True, False, True, False, False, False, False, False, False, False, True, False, False, True, True, True, True, False, False, True, False, False, True, True, True, False, False, True, True, False, False, False, False, True, True, True, True, True, False, True, True, False, True, False, False, True, True, False, True, False, False, False, True, False, True, False, True, False, True, False, True, True, False, False, False, True, False, True, True, False, True, False, True, False, False, False, False, True, True, False, True, False, True, False, True, True, False]\n"
     ]
    }
   ],
   "source": [
    "evens = []\n",
    "\n",
    "for value in rnd_nums:\n",
    "    evens.append(True if (value%2) == 0 else False)\n",
    "\n",
    "print(evens)"
   ]
  },
  {
   "cell_type": "code",
   "execution_count": 32,
   "metadata": {},
   "outputs": [
    {
     "name": "stdout",
     "output_type": "stream",
     "text": [
      "[False, True, True, False, True, True, True, False, False, False, True, False, True, True, False, True, False, False, False, False, False, False, False, True, False, False, True, True, True, True, False, False, True, False, False, True, True, True, False, False, True, True, False, False, False, False, True, True, True, True, True, False, True, True, False, True, False, False, True, True, False, True, False, False, False, True, False, True, False, True, False, True, False, True, True, False, False, False, True, False, True, True, False, True, False, True, False, False, False, False, True, True, False, True, False, True, False, True, True, False]\n"
     ]
    }
   ],
   "source": [
    "print([True if (value%2) == 0 else False for value in rnd_nums])"
   ]
  },
  {
   "cell_type": "code",
   "execution_count": 30,
   "metadata": {},
   "outputs": [
    {
     "name": "stdout",
     "output_type": "stream",
     "text": [
      "[False, True, True, False, True, True, True, False, False, False, True, False, True, True, False, True, False, False, False, False, False, False, False, True, False, False, True, True, True, True, False, False, True, False, False, True, True, True, False, False, True, True, False, False, False, False, True, True, True, True, True, False, True, True, False, True, False, False, True, True, False, True, False, False, False, True, False, True, False, True, False, True, False, True, True, False, False, False, True, False, True, True, False, True, False, True, False, False, False, False, True, True, False, True, False, True, False, True, True, False]\n"
     ]
    }
   ],
   "source": [
    "print([value%2 == 0 for value in rnd_nums])"
   ]
  },
  {
   "cell_type": "markdown",
   "metadata": {},
   "source": [
    "## Functions"
   ]
  },
  {
   "cell_type": "code",
   "execution_count": 35,
   "metadata": {},
   "outputs": [
    {
     "data": {
      "text/plain": [
       "57155629504430816618802078994918975878812205409"
      ]
     },
     "execution_count": 35,
     "metadata": {},
     "output_type": "execute_result"
    }
   ],
   "source": [
    "# -Function to find x^y\n",
    "def power_function(x,y):\n",
    "    result = 1\n",
    "    for i in range(y):\n",
    "        result *= x\n",
    "    return result\n",
    "\n",
    "power_function(2,4)\n",
    "power_function(17, 38)"
   ]
  },
  {
   "cell_type": "code",
   "execution_count": 37,
   "metadata": {},
   "outputs": [
    {
     "data": {
      "text/plain": [
       "57155629504430816618802078994918975878812205409"
      ]
     },
     "execution_count": 37,
     "metadata": {},
     "output_type": "execute_result"
    }
   ],
   "source": [
    "power_ftn = lambda x,y: x**y\n",
    "\n",
    "power_ftn(17, 38)"
   ]
  },
  {
   "cell_type": "markdown",
   "metadata": {},
   "source": [
    "## Docstrings"
   ]
  },
  {
   "cell_type": "code",
   "execution_count": 41,
   "metadata": {},
   "outputs": [
    {
     "name": "stdout",
     "output_type": "stream",
     "text": [
      "\u001b[1;31mSignature:\u001b[0m \u001b[0mpower_function\u001b[0m\u001b[1;33m(\u001b[0m\u001b[0mx\u001b[0m\u001b[1;33m,\u001b[0m \u001b[0my\u001b[0m\u001b[1;33m)\u001b[0m\u001b[1;33m\u001b[0m\u001b[1;33m\u001b[0m\u001b[0m\n",
      "\u001b[1;31mSource:\u001b[0m   \n",
      "\u001b[1;32mdef\u001b[0m \u001b[0mpower_function\u001b[0m\u001b[1;33m(\u001b[0m\u001b[0mx\u001b[0m\u001b[1;33m,\u001b[0m\u001b[0my\u001b[0m\u001b[1;33m)\u001b[0m\u001b[1;33m:\u001b[0m\u001b[1;33m\n",
      "\u001b[0m    \u001b[1;34m\"\"\"This function will find x to the power of y.\n",
      "    Input: X and Y\n",
      "    Output: X^Y\"\"\"\u001b[0m\u001b[1;33m\n",
      "\u001b[0m    \u001b[0mresult\u001b[0m \u001b[1;33m=\u001b[0m \u001b[1;36m1\u001b[0m\u001b[1;33m\n",
      "\u001b[0m    \u001b[1;32mfor\u001b[0m \u001b[0mi\u001b[0m \u001b[1;32min\u001b[0m \u001b[0mrange\u001b[0m\u001b[1;33m(\u001b[0m\u001b[0my\u001b[0m\u001b[1;33m)\u001b[0m\u001b[1;33m:\u001b[0m\u001b[1;33m\n",
      "\u001b[0m        \u001b[0mresult\u001b[0m \u001b[1;33m*=\u001b[0m \u001b[0mx\u001b[0m\u001b[1;33m\n",
      "\u001b[0m    \u001b[1;32mreturn\u001b[0m \u001b[0mresult\u001b[0m\u001b[1;33m\u001b[0m\u001b[1;33m\u001b[0m\u001b[0m\n",
      "\u001b[1;31mFile:\u001b[0m      c:\\users\\parke\\appdata\\local\\temp\\ipykernel_18204\\72435198.py\n",
      "\u001b[1;31mType:\u001b[0m      function"
     ]
    }
   ],
   "source": [
    "def power_function(x,y):\n",
    "    \"\"\"This function will find x to the power of y.\n",
    "    Input: X and Y\n",
    "    Output: X^Y\"\"\"\n",
    "    result = 1\n",
    "    for i in range(y):\n",
    "        result *= x\n",
    "    return result\n",
    "\n",
    "power_function??"
   ]
  }
 ],
 "metadata": {
  "kernelspec": {
   "display_name": "Python 3",
   "language": "python",
   "name": "python3"
  },
  "language_info": {
   "codemirror_mode": {
    "name": "ipython",
    "version": 3
   },
   "file_extension": ".py",
   "mimetype": "text/x-python",
   "name": "python",
   "nbconvert_exporter": "python",
   "pygments_lexer": "ipython3",
   "version": "3.10.4"
  }
 },
 "nbformat": 4,
 "nbformat_minor": 2
}
