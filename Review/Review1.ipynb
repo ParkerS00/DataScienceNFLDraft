{
 "cells": [
  {
   "cell_type": "markdown",
   "metadata": {},
   "source": [
    "# Review\n",
    "- Loading Data\n",
    "    - From CSV files, really easy from the internet\n",
    "    - From API\n",
    "- Missing Values\n",
    "    - Remove\n",
    "    - Fill\n",
    "- Formatting\n",
    "    - Strings\n",
    "    - Date/Time\n",
    "- Data Wrangling\n",
    "    - Splitting Strings\n",
    "    - One-hot Encoding\n",
    "    - Ordinal Encoding\n",
    "    - Mapping\n",
    "    - Concat/Joins\n",
    "    - Pivot Tables\n",
    "    - Melting\n",
    "    - Groupbys"
   ]
  },
  {
   "cell_type": "markdown",
   "metadata": {},
   "source": [
    "# Machine Learning\n",
    "* Cleaning\n",
    "* Analyze -> Exploratory Data Analysis EDA -> \n",
    "    * Are there trends/patters?\n",
    "    * What variables can I predict?\n",
    "    * What variables are related?\n",
    "    * How can I use the data?\n",
    "    * To make a plan and set in motion\n",
    "* Prepare\n",
    "* Model\n",
    "* Evaluate"
   ]
  },
  {
   "cell_type": "code",
   "execution_count": null,
   "metadata": {},
   "outputs": [],
   "source": []
  }
 ],
 "metadata": {
  "language_info": {
   "name": "python"
  }
 },
 "nbformat": 4,
 "nbformat_minor": 2
}
